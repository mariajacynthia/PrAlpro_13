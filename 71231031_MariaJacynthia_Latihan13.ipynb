{
 "cells": [
  {
   "cell_type": "code",
   "execution_count": 30,
   "metadata": {},
   "outputs": [
    {
     "name": "stdout",
     "output_type": "stream",
     "text": [
      "13 adalah bilangan prima\n",
      "True\n"
     ]
    }
   ],
   "source": [
    "#71231031_soal 13-1\n",
    "def bilprima(c, div=None):\n",
    "    if div is None:\n",
    "        div = c - 1\n",
    "    if c <= 1:\n",
    "        return False\n",
    "    if div == 1:\n",
    "        return True\n",
    "    if c % div == 0:\n",
    "        return False\n",
    "    return bilprima(c, div - 1)\n",
    "\n",
    "angka = int(input(\"Masukkan bilangan yang akan dicek: \"))\n",
    "if bilprima(angka):\n",
    "    print(f\"{angka} adalah bilangan prima\")\n",
    "else:\n",
    "    print(f\"{angka} bukan bilangan prima\")"
   ]
  },
  {
   "cell_type": "code",
   "execution_count": 8,
   "metadata": {},
   "outputs": [
    {
     "name": "stdout",
     "output_type": "stream",
     "text": [
      "\"sugus\" adalah palindrom\n"
     ]
    }
   ],
   "source": [
    "#71231031_soal 13-2\n",
    "def caripalindrom(yyy):\n",
    "    yyy = ''.join(yyy.split()).lower()\n",
    "    \n",
    "    if len(yyy) <= 1:\n",
    "        return True\n",
    "    if yyy[0] != yyy[-1]:\n",
    "        return False\n",
    "    return caripalindrom(yyy[1:-1])\n",
    "\n",
    "kalimat = input(\"Masukkan kalimat yang akan dicek: \")\n",
    "if caripalindrom(kalimat):\n",
    "    print(f'\"{kalimat}\" adalah palindrom')\n",
    "else:\n",
    "    print(f'\"{kalimat}\" bukan palindrom')"
   ]
  },
  {
   "cell_type": "code",
   "execution_count": 24,
   "metadata": {},
   "outputs": [
    {
     "name": "stdout",
     "output_type": "stream",
     "text": [
      "Jumlah deret ganjil dari 1 hingga bilangan ganjil ke-7 adalah 16\n"
     ]
    }
   ],
   "source": [
    "#71231031_soal 13-3\n",
    "def deretganjil(hc):\n",
    "    if hc == 1:\n",
    "        return 1\n",
    "\n",
    "    if hc == 2 * hc - 1:\n",
    "        return hc + deretganjil(hc - 1)\n",
    "    return hc + deretganjil(hc - 2)\n",
    "\n",
    "hc = int(input(\"Masukkan angka: \"))\n",
    "hasilnya = deretganjil(hc)\n",
    "print(f\"Jumlah deret ganjil dari 1 hingga bilangan ganjil ke-{hc} adalah {hasilnya}\")"
   ]
  },
  {
   "cell_type": "code",
   "execution_count": 26,
   "metadata": {},
   "outputs": [
    {
     "name": "stdout",
     "output_type": "stream",
     "text": [
      "Jumlah digit dari 234 adalah 9\n"
     ]
    }
   ],
   "source": [
    "#71231031_soal 13-4\n",
    "def jumlahdigitnya(mj):\n",
    "    if mj == 0:\n",
    "        return 0\n",
    "    return (mj % 10) + jumlahdigitnya(mj // 10)\n",
    "\n",
    "angka = int(input(\"Masukkan bilangan: \"))\n",
    "hasil = jumlahdigitnya(angka)\n",
    "print(f\"Jumlah digit dari {angka} adalah {hasil}\")"
   ]
  },
  {
   "cell_type": "code",
   "execution_count": 34,
   "metadata": {},
   "outputs": [
    {
     "name": "stdout",
     "output_type": "stream",
     "text": [
      "Jumlah kombinasi C(4, 4) adalah 1\n",
      "1\n",
      "10\n",
      "35\n"
     ]
    }
   ],
   "source": [
    "#71231031_soal 13-5\n",
    "def kombinasi(r, p):\n",
    "    if p == 0 or p == r:\n",
    "        return 1\n",
    "    return kombinasi(r - 1, p - 1) + kombinasi(r - 1, p)\n",
    "\n",
    "r = int(input(\"Masukkan nilai r: \"))\n",
    "p = int(input(\"Masukkan nilai p: \"))\n",
    "hasil = kombinasi(r, p)\n",
    "print(f\"Jumlah kombinasi C({r}, {p}) adalah {hasil}\")\n",
    "\n",
    "#testcase\n",
    "print(kombinasi(4, 4))\n",
    "print(kombinasi(5, 2))\n",
    "print(kombinasi(7, 3))"
   ]
  },
  {
   "cell_type": "code",
   "execution_count": 38,
   "metadata": {},
   "outputs": [
    {
     "name": "stdout",
     "output_type": "stream",
     "text": [
      "5040\n"
     ]
    }
   ],
   "source": [
    "#71231031_laporan13\n",
    "def permutasi (m, n):\n",
    "    if(n == 0):\n",
    "        return 1\n",
    "    else:\n",
    "        return (permutasi(m,n-1) * (m-n+1))\n",
    "print(permutasi(10,4))"
   ]
  }
 ],
 "metadata": {
  "kernelspec": {
   "display_name": "Python 3",
   "language": "python",
   "name": "python3"
  },
  "language_info": {
   "codemirror_mode": {
    "name": "ipython",
    "version": 3
   },
   "file_extension": ".py",
   "mimetype": "text/x-python",
   "name": "python",
   "nbconvert_exporter": "python",
   "pygments_lexer": "ipython3",
   "version": "3.12.0"
  }
 },
 "nbformat": 4,
 "nbformat_minor": 2
}
